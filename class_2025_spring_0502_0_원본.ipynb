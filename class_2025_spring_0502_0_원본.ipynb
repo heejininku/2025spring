{
  "cells": [
    {
      "cell_type": "markdown",
      "metadata": {
        "id": "view-in-github",
        "colab_type": "text"
      },
      "source": [
        "<a href=\"https://colab.research.google.com/github/heejininku/2025spring/blob/main/class_2025_spring_0502_0_%EC%9B%90%EB%B3%B8.ipynb\" target=\"_parent\"><img src=\"https://colab.research.google.com/assets/colab-badge.svg\" alt=\"Open In Colab\"/></a>"
      ]
    },
    {
      "cell_type": "markdown",
      "metadata": {
        "id": "l9vdX-zIoihQ"
      },
      "source": [
        "<a href=\"https://colab.research.google.com/github/kwb425/class-2025-spring/blob/main/class-2025-spring_0502-0.ipynb\" target=\"_parent\"><img src=\"https://colab.research.google.com/assets/colab-badge.svg\" alt=\"Open In Colab\"/></a>"
      ]
    },
    {
      "cell_type": "code",
      "execution_count": null,
      "metadata": {
        "id": "FVqnz0tcAVFM"
      },
      "outputs": [],
      "source": [
        "# https://wikidocs.net/149358\n",
        "%pip install selenium"
      ]
    },
    {
      "cell_type": "code",
      "execution_count": null,
      "metadata": {
        "id": "8xUALw60_lie"
      },
      "outputs": [],
      "source": [
        "from selenium import webdriver\n",
        "from selenium.webdriver.common.by import By\n",
        "from selenium.webdriver.support import expected_conditions as EC\n",
        "from selenium.webdriver.support.ui import WebDriverWait\n",
        "\n",
        "URL = \"https://product.kyobobook.co.kr/detail/S000000620181\"\n",
        "\n",
        "options = webdriver.ChromeOptions()\n",
        "options.add_argument(\" --headless\")\n",
        "options.add_argument(\" --disable-dev-shm-usage\")\n",
        "options.add_argument(\" --no-sandbox\")\n",
        "driver = webdriver.Chrome(options=options)\n",
        "driver.get(URL)\n",
        "print(driver.title)\n"
      ]
    },
    {
      "cell_type": "code",
      "execution_count": null,
      "metadata": {
        "id": "iU1ID2KO3dDn"
      },
      "outputs": [],
      "source": [
        "comment_texts = driver.find_elements(By.CLASS_NAME, 'comment_text')\n",
        "for tmp in comment_texts:\n",
        "    print(tmp.text)"
      ]
    },
    {
      "cell_type": "code",
      "execution_count": null,
      "metadata": {
        "id": "VAwABAPp0Pl4"
      },
      "outputs": [],
      "source": [
        "btn_page = driver.find_element(By.CLASS_NAME, 'btn_page.next')\n",
        "\n",
        "overlapping_element = driver.find_element(By.XPATH, '//div[@class=\"right_area\"]')\n",
        "driver.execute_script(\"arguments[0].remove()\", overlapping_element)\n",
        "overlapping_element = driver.find_element(By.XPATH, '//*[@id=\"contents\"]/div[3]/div')\n",
        "driver.execute_script(\"arguments[0].remove()\", overlapping_element)"
      ]
    },
    {
      "cell_type": "code",
      "execution_count": null,
      "metadata": {
        "id": "OjHrpif_AeYU"
      },
      "outputs": [],
      "source": [
        "from bs4 import BeautifulSoup\n",
        "html = driver.page_source\n",
        "soup = BeautifulSoup(html, 'html.parser')\n",
        "\n",
        "last_page = soup.select_one(\"#ReviewList1 > div.tab_wrap.type_sm > div.tab_content > div > div.pagination > div > a:nth-child(10)\")\n",
        "last_page_num = int(last_page.get_text())"
      ]
    },
    {
      "cell_type": "code",
      "execution_count": null,
      "metadata": {
        "id": "c-xIhfVToihV"
      },
      "outputs": [],
      "source": [
        "import time\n",
        "\n",
        "for n in range(last_page_num-1):\n",
        "  btn_page.click()\n",
        "  time.sleep(1)\n",
        "  comment_texts = driver.find_elements(By.CLASS_NAME, 'comment_text')\n",
        "  for tmp in comment_texts:\n",
        "      print(tmp.text)\n",
        "\n",
        "driver.quit()\n"
      ]
    }
  ],
  "metadata": {
    "colab": {
      "provenance": [],
      "include_colab_link": true
    },
    "kernelspec": {
      "display_name": "Python 3",
      "name": "python3"
    },
    "language_info": {
      "codemirror_mode": {
        "name": "ipython",
        "version": 3
      },
      "file_extension": ".py",
      "mimetype": "text/x-python",
      "name": "python",
      "nbconvert_exporter": "python",
      "pygments_lexer": "ipython3",
      "version": "3.12.2"
    }
  },
  "nbformat": 4,
  "nbformat_minor": 0
}