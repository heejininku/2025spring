{
  "cells": [
    {
      "cell_type": "markdown",
      "metadata": {
        "id": "view-in-github",
        "colab_type": "text"
      },
      "source": [
        "<a href=\"https://colab.research.google.com/github/heejininku/2025spring/blob/main/class_2025_spring_0314_0_%ED%95%84%EA%B8%B0.ipynb\" target=\"_parent\"><img src=\"https://colab.research.google.com/assets/colab-badge.svg\" alt=\"Open In Colab\"/></a>"
      ]
    },
    {
      "cell_type": "markdown",
      "metadata": {
        "id": "df2zUzf1SHd3"
      },
      "source": [
        "---\n",
        "\n",
        "### 1. Lists, Tuples, and Dictionaries\n",
        "\n",
        "---\n",
        "\n",
        "#### **Lists**\n",
        "\n",
        "A list is an ordered collection of items. Lists are mutable, which means you can modify their content.\n",
        "\n",
        "* **Creating Lists**\n",
        "    ```python\n",
        "    my_list = [1, 2, 3, 4, 5]\n",
        "    ```\n",
        "\n",
        "* **Accessing Items**\n",
        "    ```python\n",
        "    first_item = my_list[0]\n",
        "    ```\n",
        "\n",
        "* **Modifying Items**\n",
        "    ```python\n",
        "    my_list[1] = 20\n",
        "    ```\n",
        "\n",
        "* **Appending & Removing**\n",
        "    ```python\n",
        "    my_list.append(6)  # Add to the end\n",
        "    my_list.remove(3)  # Remove first occurrence of 3\n",
        "    ```\n",
        "\n",
        "---\n",
        "\n",
        "#### **Tuples**\n",
        "\n",
        "Tuples are similar to lists but they are immutable. This means that you can't modify their content after creation.\n",
        "\n",
        "* **Creating Tuples**\n",
        "    ```python\n",
        "    my_tuple = (1, 2, 3, 4, 5)\n",
        "    ```\n",
        "\n",
        "* **Accessing Items**\n",
        "    ```python\n",
        "    first_item = my_tuple[0]\n",
        "    ```\n",
        "\n",
        "* **Note**: Tuples cannot be modified after creation.\n",
        "\n",
        "---\n",
        "\n",
        "#### **Dictionaries**\n",
        "\n",
        "Dictionaries are unordered collections of key-value pairs.\n",
        "\n",
        "* **Creating Dictionaries**\n",
        "    ```python\n",
        "    my_dict = {\n",
        "        \"name\": \"John\",\n",
        "        \"age\": 30,\n",
        "        \"city\": \"New York\"\n",
        "    }\n",
        "    ```\n",
        "\n",
        "* **Accessing Values**\n",
        "    ```python\n",
        "    name = my_dict[\"name\"]\n",
        "    ```\n",
        "\n",
        "* **Modifying Values**\n",
        "    ```python\n",
        "    my_dict[\"age\"] = 31\n",
        "    ```\n",
        "\n",
        "* **Adding & Removing Key-Value Pairs**\n",
        "    ```python\n",
        "    my_dict[\"country\"] = \"USA\"\n",
        "    del my_dict[\"city\"]\n",
        "    ```\n",
        "\n",
        "---\n",
        "\n",
        "### 2. Understanding Data Structures and Their Operations\n",
        "\n",
        "---\n",
        "\n",
        "#### **Lists**\n",
        "\n",
        "* **Common Operations**:\n",
        "    * Append: `list.append(item)`\n",
        "    * Insert: `list.insert(index, item)`\n",
        "    * Remove: `list.remove(item)`\n",
        "    * Pop: `list.pop(index)`\n",
        "\n",
        "* **Slicing Lists**\n",
        "    ```python\n",
        "    sub_list = my_list[1:4]\n",
        "    ```\n",
        "\n",
        "---\n",
        "\n",
        "#### **Tuples**\n",
        "\n",
        "* **Use Cases**: When you want an immutable ordered list of items.\n",
        "    * Coordinates (x, y)\n",
        "    * RGB colors (r, g, b)\n",
        "\n",
        "---\n",
        "\n",
        "#### **Dictionaries**\n",
        "\n",
        "* **Common Operations**:\n",
        "    * Add/Edit: `dict[key] = value`\n",
        "    * Remove: `del dict[key]`\n",
        "    * Get: `dict.get(key, default)`\n",
        "\n",
        "* **Keys and Values**:\n",
        "    ```python\n",
        "    keys = my_dict.keys()\n",
        "    values = my_dict.values()\n",
        "    ```\n",
        "\n",
        "---\n",
        "\n",
        "### 3. Manipulating and Accessing Data Structures\n",
        "\n",
        "---\n",
        "\n",
        "#### **Lists**\n",
        "\n",
        "* **Iterating Over Lists**\n",
        "    ```python\n",
        "    for item in my_list:\n",
        "        print(item)\n",
        "    ```\n",
        "\n",
        "* **List Comprehensions** (A concise way to create lists)\n",
        "    ```python\n",
        "    squares = [x**2 for x in range(10)]\n",
        "    ```\n",
        "\n",
        "---\n",
        "\n",
        "#### **Tuples**\n",
        "\n",
        "* **Unpacking Tuples**\n",
        "    ```python\n",
        "    x, y, z = (10, 20, 30)\n",
        "    ```\n",
        "\n",
        "---\n",
        "\n",
        "#### **Dictionaries**\n",
        "\n",
        "* **Iterating Over Dictionaries**\n",
        "    ```python\n",
        "    for key, value in my_dict.items():\n",
        "        print(key, value)\n",
        "    ```\n",
        "\n",
        "* **Dictionary Comprehensions**\n",
        "    ```python\n",
        "    square_dict = {x: x**2 for x in range(5)}\n",
        "    ```\n",
        "\n",
        "---"
      ]
    },
    {
      "cell_type": "code",
      "source": [
        "my_list = [1, 2, 3, 4, 5]\n",
        "first_item = my_list[0] #Index 하는 것"
      ],
      "metadata": {
        "id": "B7j9kPmcgMjO"
      },
      "execution_count": null,
      "outputs": []
    },
    {
      "cell_type": "code",
      "source": [
        "my_tuple = (1, 2, 3, 4, 5) #tuple은 값을 바꿀 수 없음 #보통 한가지의 데이터 값만 들어가야 함 (문자랑 숫자 번갈아 들어가면서 못함)\n",
        "# 예측 매커니즘에 더 유리 #값이 바뀌지 않음 #컴퓨터가 예측하기 쉬움 #cash의 heat rate를 높이려고 하기 때문"
      ],
      "metadata": {
        "id": "ZvcaiR8qkW9f"
      },
      "execution_count": null,
      "outputs": []
    },
    {
      "cell_type": "code",
      "source": [
        " first_item = my_tuple[0]"
      ],
      "metadata": {
        "id": "hAEYJHnxkzfz"
      },
      "execution_count": null,
      "outputs": []
    },
    {
      "cell_type": "code",
      "source": [
        "  my_dict = {\n",
        "      \"name\": \"John\",\n",
        "      \"age\": 30,\n",
        "      \"city\": \"New York\"\n",
        "  }  #거푸집 같은 것임. #그래서 객체지향의 시작점, 프로토타입이라고 할 수 있다."
      ],
      "metadata": {
        "id": "KEqUAKPCk2af"
      },
      "execution_count": null,
      "outputs": []
    },
    {
      "cell_type": "code",
      "source": [
        "name = my_dict[\"name\"]"
      ],
      "metadata": {
        "id": "Hnqd3O5zk6yr"
      },
      "execution_count": null,
      "outputs": []
    },
    {
      "cell_type": "code",
      "source": [
        "my_dict[\"age\"] = 31\n",
        "my_dict[\"country\"] = \"USA\" # 추가하는 것"
      ],
      "metadata": {
        "id": "GLcC02XUk9_o"
      },
      "execution_count": null,
      "outputs": []
    },
    {
      "cell_type": "code",
      "source": [
        "del my_dict[\"city\"]"
      ],
      "metadata": {
        "id": "QIyY2QULlLYZ"
      },
      "execution_count": null,
      "outputs": []
    },
    {
      "cell_type": "code",
      "source": [
        "sub_list = my_list[1:4] #2번째,3번째,4,5번째 가져와서 서브리스트 생성"
      ],
      "metadata": {
        "id": "_lsx9hS9lqOE"
      },
      "execution_count": null,
      "outputs": []
    },
    {
      "cell_type": "code",
      "source": [
        "keys = my_dict.keys()  #이게 함수라고 할 수 있음. my dict에서 왼쪽에 있는 것만 가지고 와라\n",
        "values = my_dict.values() #my dict에서 오른쪽에 있는 것만 가지고 와라"
      ],
      "metadata": {
        "id": "5bKX7CsLlwrD"
      },
      "execution_count": null,
      "outputs": []
    },
    {
      "cell_type": "code",
      "source": [
        " for item in my_list: #코딩에서 중요한것: ~하면 ~해라(조건), ~루프 돌아라 (반복)\n",
        "      print(item)"
      ],
      "metadata": {
        "colab": {
          "base_uri": "https://localhost:8080/"
        },
        "id": "aGXQDRnWl0jQ",
        "outputId": "9f80a80a-646f-4b72-a4a7-d1dd58166081"
      },
      "execution_count": null,
      "outputs": [
        {
          "output_type": "stream",
          "name": "stdout",
          "text": [
            "1\n",
            "2\n",
            "3\n",
            "4\n",
            "5\n"
          ]
        }
      ]
    },
    {
      "cell_type": "markdown",
      "source": [
        "리스트를 만드는 방법 1.직접 만들기 또는 2. iterate을 하는 것\n"
      ],
      "metadata": {
        "id": "hizNulXjmMMh"
      }
    },
    {
      "cell_type": "code",
      "source": [
        "#방법1 (컴퓨터 입장에서는 가장 빠를 것)\n",
        "a=[0, 1, 2, 3, 4, 5, 6, 7, 8, 9, 10, 11, 12, 13, 14, 15, 16, 17, 18, 19, 20, 21, 22, 23, 24, 25, 26, 27, 28, 29, 30, 31, 32, 33, 34, 35, 36, 37, 38, 39, 40, 41, 42, 43, 44, 45, 46, 47, 48, 49, 50, 51, 52, 53, 54, 55, 56, 57, 58, 59, 60, 61, 62, 63, 64, 65, 66, 67, 68, 69, 70, 71, 72, 73, 74, 75, 76, 77, 78, 79, 80, 81, 82, 83, 84, 85, 86, 87, 88, 89, 90, 91, 92, 93, 94, 95, 96, 97, 98, 99]\n",
        "print(a)\n",
        "\n",
        "\n",
        "#방법2\n",
        "b=[]\n",
        "for idx in range(100): #깡통을 만들어서 넣기\n",
        "  b.append(idx)\n",
        "\n",
        "print(b)\n",
        "\n",
        "#방법3 (2번이 조금 더 빠름)\n",
        "c=[x for x in range(100)] #리스트 만들때 for문을 안에다가 집어넣는다\n",
        "print(c)\n",
        "\n",
        "#c언어의 경우에는 자연스럽게 컴파일러가 바꿔버림."
      ],
      "metadata": {
        "colab": {
          "base_uri": "https://localhost:8080/"
        },
        "id": "fwrTEeiPmYb0",
        "outputId": "e0e9ed8e-cfdf-4c75-bf42-58107dceecf9"
      },
      "execution_count": null,
      "outputs": [
        {
          "output_type": "stream",
          "name": "stdout",
          "text": [
            "[0, 1, 2, 3, 4, 5, 6, 7, 8, 9, 10, 11, 12, 13, 14, 15, 16, 17, 18, 19, 20, 21, 22, 23, 24, 25, 26, 27, 28, 29, 30, 31, 32, 33, 34, 35, 36, 37, 38, 39, 40, 41, 42, 43, 44, 45, 46, 47, 48, 49, 50, 51, 52, 53, 54, 55, 56, 57, 58, 59, 60, 61, 62, 63, 64, 65, 66, 67, 68, 69, 70, 71, 72, 73, 74, 75, 76, 77, 78, 79, 80, 81, 82, 83, 84, 85, 86, 87, 88, 89, 90, 91, 92, 93, 94, 95, 96, 97, 98, 99]\n",
            "[0, 1, 2, 3, 4, 5, 6, 7, 8, 9, 10, 11, 12, 13, 14, 15, 16, 17, 18, 19, 20, 21, 22, 23, 24, 25, 26, 27, 28, 29, 30, 31, 32, 33, 34, 35, 36, 37, 38, 39, 40, 41, 42, 43, 44, 45, 46, 47, 48, 49, 50, 51, 52, 53, 54, 55, 56, 57, 58, 59, 60, 61, 62, 63, 64, 65, 66, 67, 68, 69, 70, 71, 72, 73, 74, 75, 76, 77, 78, 79, 80, 81, 82, 83, 84, 85, 86, 87, 88, 89, 90, 91, 92, 93, 94, 95, 96, 97, 98, 99]\n",
            "[0, 1, 2, 3, 4, 5, 6, 7, 8, 9, 10, 11, 12, 13, 14, 15, 16, 17, 18, 19, 20, 21, 22, 23, 24, 25, 26, 27, 28, 29, 30, 31, 32, 33, 34, 35, 36, 37, 38, 39, 40, 41, 42, 43, 44, 45, 46, 47, 48, 49, 50, 51, 52, 53, 54, 55, 56, 57, 58, 59, 60, 61, 62, 63, 64, 65, 66, 67, 68, 69, 70, 71, 72, 73, 74, 75, 76, 77, 78, 79, 80, 81, 82, 83, 84, 85, 86, 87, 88, 89, 90, 91, 92, 93, 94, 95, 96, 97, 98, 99]\n"
          ]
        }
      ]
    }
  ],
  "metadata": {
    "colab": {
      "provenance": [],
      "include_colab_link": true
    },
    "kernelspec": {
      "display_name": "Python 3",
      "name": "python3"
    },
    "language_info": {
      "name": "python"
    }
  },
  "nbformat": 4,
  "nbformat_minor": 0
}