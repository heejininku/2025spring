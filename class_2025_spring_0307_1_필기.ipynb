{
  "cells": [
    {
      "cell_type": "markdown",
      "metadata": {
        "id": "view-in-github",
        "colab_type": "text"
      },
      "source": [
        "<a href=\"https://colab.research.google.com/github/heejininku/2025spring/blob/main/class_2025_spring_0307_1_%ED%95%84%EA%B8%B0.ipynb\" target=\"_parent\"><img src=\"https://colab.research.google.com/assets/colab-badge.svg\" alt=\"Open In Colab\"/></a>"
      ]
    },
    {
      "cell_type": "markdown",
      "metadata": {
        "id": "8TYugTNkPYy1"
      },
      "source": [
        "<a href=\"https://colab.research.google.com/github/kwb425/class-2025-spring/blob/main/class-2025-spring_0307-1.ipynb\" target=\"_parent\"><img src=\"https://colab.research.google.com/assets/colab-badge.svg\" alt=\"Open In Colab\"/></a>"
      ]
    },
    {
      "cell_type": "markdown",
      "metadata": {
        "id": "df2zUzf1SHd3"
      },
      "source": [
        "\n",
        "\n",
        "\n",
        "# Course Material: Python Programming for Beginners\n",
        "\n",
        "## Table of Contents\n",
        "\n",
        "1. [Overview of Python Programming Language](#overview)\n",
        "2. [Setting up the Development Environment](#setup)\n",
        "3. [Basic Python Syntax and Variables](#basics)\n",
        "\n",
        "---\n",
        "\n",
        "<a name=\"overview\"></a>\n",
        "## 1. Overview of Python Programming Language\n",
        "\n",
        "Python is a high-level, interpreted programming language known for its readability and versatility. It is widely used in various fields such as:\n",
        "\n",
        "- Web Development\n",
        "- Data Analysis\n",
        "- Artificial Intelligence\n",
        "- Scientific Computing\n",
        "- Game Development\n",
        "\n",
        "### Features of Python\n",
        "\n",
        "- **Readability**: Python has a clean syntax that makes it easy to read and write code.\n",
        "- **Community Support**: A large and active community contributes to a rich set of libraries and frameworks.\n",
        "- **Cross-Platform**: Python is available and can run on various operating systems like Windows, Linux, and macOS.\n",
        "\n",
        "---\n",
        "\n",
        "<a name=\"setup\"></a>\n",
        "## 2. Setting up the Development Environment\n",
        "\n",
        "To start coding in Python, you'll need to set up a development environment on your computer. Here are some popular options:\n",
        "\n",
        "### Online IDEs\n",
        "\n",
        "- **Google Colab**: Offers free CPU and GPU resources. Ideal for machine learning projects.\n",
        "- **Repl.it**: An online IDE that doesn’t require any setup.\n",
        "\n",
        "### Offline IDEs\n",
        "\n",
        "- **PyCharm**: A feature-rich IDE for Python with many plugins and tools.\n",
        "- **Visual Studio Code**: A free, open-source editor with support for Python and other languages.\n",
        "\n",
        "#### Installation Steps for Python\n",
        "\n",
        "1. Go to [Python's official website](https://www.python.org/).\n",
        "2. Download the installer based on your operating system.\n",
        "3. Run the installer and follow the on-screen instructions.\n",
        "\n",
        "---\n",
        "\n",
        "<a name=\"basics\"></a>\n",
        "## 3. Basic Python Syntax and Variables\n",
        "\n",
        "### Syntax\n",
        "\n",
        "Python uses indentation to indicate a block of code. For example:\n",
        "\n",
        "```python\n",
        "if True:\n",
        "    print(\"This is indented.\")\n",
        "```\n",
        "\n",
        "### Variables\n",
        "\n",
        "Variables are used to store data that can be used and manipulated throughout a program. They are declared as follows:\n",
        "\n",
        "```python\n",
        "x = 10\n",
        "name = \"Alice\"\n",
        "```\n",
        "\n",
        "### Data Types\n",
        "\n",
        "Python has several built-in data types like:\n",
        "\n",
        "- Integers: `x = 1`\n",
        "- Float: `y = 2.5`\n",
        "- String: `name = \"John\"`\n",
        "- List: `my_list = [1, 2, 3]`\n",
        "\n",
        "### Operations\n",
        "\n",
        "Basic operations in Python include:\n",
        "\n",
        "- Addition: `x + y`\n",
        "- Subtraction: `x - y`\n",
        "- Multiplication: `x * y`\n",
        "- Division: `x / y`\n",
        "\n",
        "---\n",
        "\n"
      ]
    },
    {
      "cell_type": "code",
      "source": [
        "if True:  #conditional: if 부분이 사실이면 아래를 실행해라. (지금은 그냥 true만 넣어놨음.)\n",
        "    print(\"This is indented.\")"
      ],
      "metadata": {
        "colab": {
          "base_uri": "https://localhost:8080/"
        },
        "id": "MG6MP26pZx12",
        "outputId": "9c672af9-3129-4c5f-dcda-2d0b2b5e6c50"
      },
      "execution_count": 3,
      "outputs": [
        {
          "output_type": "stream",
          "name": "stdout",
          "text": [
            "This is indented.\n"
          ]
        }
      ]
    },
    {
      "cell_type": "code",
      "source": [
        "x = 10 #변수 설정\n",
        "name = \"Alice\"\n",
        "\n",
        "x = 1  #왼쪽은 L value, 오른쪽은 R value (TMP Value라고도 함., 그때그때 달라지는 것)\n",
        "y = 2.5\n",
        "name = \"John\" #이렇게 되면 이제 Alice는 없어짐.\n",
        "my_list = [1, 2, 3]"
      ],
      "metadata": {
        "id": "OO0kktKQShN8"
      },
      "execution_count": 15,
      "outputs": []
    },
    {
      "cell_type": "code",
      "source": [
        "print(x + y)\n",
        "print (x - y)\n",
        "print(x * y)\n",
        "print (x/y)"
      ],
      "metadata": {
        "colab": {
          "base_uri": "https://localhost:8080/"
        },
        "id": "HNNUdt5paVeY",
        "outputId": "7fb03549-7164-4de9-efef-5fb5daab6b33"
      },
      "execution_count": 13,
      "outputs": [
        {
          "output_type": "stream",
          "name": "stdout",
          "text": [
            "3.5\n",
            "-1.5\n",
            "2.5\n",
            "0.4\n"
          ]
        }
      ]
    }
  ],
  "metadata": {
    "colab": {
      "provenance": [],
      "include_colab_link": true
    },
    "kernelspec": {
      "display_name": "Python 3",
      "name": "python3"
    },
    "language_info": {
      "name": "python"
    }
  },
  "nbformat": 4,
  "nbformat_minor": 0
}