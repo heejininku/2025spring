{
  "cells": [
    {
      "cell_type": "markdown",
      "metadata": {
        "id": "view-in-github",
        "colab_type": "text"
      },
      "source": [
        "<a href=\"https://colab.research.google.com/github/heejininku/2025spring/blob/main/class_2025_spring_0321_0_%EC%9B%90%EB%B3%B8.ipynb\" target=\"_parent\"><img src=\"https://colab.research.google.com/assets/colab-badge.svg\" alt=\"Open In Colab\"/></a>"
      ]
    },
    {
      "cell_type": "markdown",
      "metadata": {
        "id": "xnpkWgtktvdP"
      },
      "source": [
        "<a href=\"https://colab.research.google.com/github/kwb425/class-2025-spring/blob/main/class-2025-spring_0321-0.ipynb\" target=\"_parent\"><img src=\"https://colab.research.google.com/assets/colab-badge.svg\" alt=\"Open In Colab\"/></a>"
      ]
    },
    {
      "cell_type": "code",
      "execution_count": null,
      "metadata": {
        "id": "FVqnz0tcAVFM"
      },
      "outputs": [],
      "source": [
        "%pip install gradio\n",
        "%pip install transformers"
      ]
    },
    {
      "cell_type": "code",
      "execution_count": null,
      "metadata": {
        "id": "8xUALw60_lie"
      },
      "outputs": [],
      "source": [
        "import gradio as gr\n",
        "from transformers import pipeline\n",
        "from PIL import Image\n",
        "import numpy as np\n",
        "import requests\n",
        "from io import BytesIO\n",
        "import os\n",
        "\n",
        "os.environ['HF_TOKEN'] = 'KEY'\n",
        "\n",
        "# Load AI model for image classification from Hugging Face\n",
        "classifier = pipeline(\"image-classification\", model=\"Falconsai/nsfw_image_detection\")\n",
        "\n",
        "# Define a prediction function for both image upload and URL input\n",
        "def recognize_image(image=None, url=None):\n",
        "    if url:\n",
        "        # If a URL is provided, fetch the image from the URL\n",
        "        response = requests.get(url)\n",
        "        image = Image.open(BytesIO(response.content))\n",
        "    elif image is not None:\n",
        "        # Convert the uploaded image to a 3-channel (RGB) PIL Image\n",
        "        image = Image.fromarray(image.astype('uint8')).convert('RGB')\n",
        "\n",
        "    # Use the AI model to predict the label directly\n",
        "    predictions = classifier(image)\n",
        "    return predictions\n",
        "\n",
        "# Create Gradio interface with drag-and-drop and URL input\n",
        "with gr.Blocks() as demo:\n",
        "    gr.Markdown(\"# AI Recognition with Image Upload or URL\")\n",
        "\n",
        "    with gr.Row():\n",
        "        image_input = gr.Image(type=\"numpy\", label=\"Drag and Drop Image or Upload\")\n",
        "        url_input = gr.Textbox(label=\"Or enter an Image URL\")\n",
        "\n",
        "    submit_button = gr.Button(\"Submit\")\n",
        "    output = gr.Textbox(label=\"Prediction\")\n",
        "\n",
        "    # Define how the interface works when the button is clicked\n",
        "    submit_button.click(recognize_image, inputs=[image_input, url_input], outputs=output)\n",
        "\n",
        "# Launch the demo\n",
        "demo.launch()\n"
      ]
    }
  ],
  "metadata": {
    "colab": {
      "provenance": [],
      "include_colab_link": true
    },
    "kernelspec": {
      "display_name": "Python 3",
      "name": "python3"
    },
    "language_info": {
      "codemirror_mode": {
        "name": "ipython",
        "version": 3
      },
      "file_extension": ".py",
      "mimetype": "text/x-python",
      "name": "python",
      "nbconvert_exporter": "python",
      "pygments_lexer": "ipython3",
      "version": "3.12.2"
    }
  },
  "nbformat": 4,
  "nbformat_minor": 0
}