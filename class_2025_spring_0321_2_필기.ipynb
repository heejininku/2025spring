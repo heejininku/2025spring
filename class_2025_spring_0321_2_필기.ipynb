{
  "cells": [
    {
      "cell_type": "markdown",
      "metadata": {
        "id": "view-in-github",
        "colab_type": "text"
      },
      "source": [
        "<a href=\"https://colab.research.google.com/github/heejininku/2025spring/blob/main/class_2025_spring_0321_2_%ED%95%84%EA%B8%B0.ipynb\" target=\"_parent\"><img src=\"https://colab.research.google.com/assets/colab-badge.svg\" alt=\"Open In Colab\"/></a>"
      ]
    },
    {
      "cell_type": "markdown",
      "metadata": {
        "id": "Krh48DIfeTde"
      },
      "source": [
        "# Table of Contents\n",
        "1. [Lecture 1: Reading from and Writing to Files](#lecture1)\n",
        "2. [Lecture 2: Working with Different File Formats (text, CSV, JSON)](#lecture2)\n",
        "3. [Lecture 3: Error Handling and Exception Handling in Python](#lecture3)\n",
        "4. [Lecture 4: Try-Except Blocks and Handling Specific Exceptions](#lecture4)\n",
        "\n",
        "<a name=\"lecture1\"></a>\n",
        "# Lecture 1: Reading from and Writing to Files\n",
        "\n",
        "## Introduction\n",
        "- Importance of file handling\n",
        "- Different modes of file handling\n",
        "\n",
        "## Reading from Files\n",
        "\n",
        "Example:\n",
        "```python\n",
        "# Using open() function\n",
        "with open('sample.txt', 'r') as file:\n",
        "    content = file.read()\n",
        "    print(content)\n",
        "\n",
        "# Using readline() method\n",
        "with open('sample.txt', 'r') as file: #파일이 만들어지는 것\n",
        "    line = file.readline()\n",
        "    print(line)\n",
        "\n",
        "# Using readlines() method\n",
        "with open('sample.txt', 'r') as file:\n",
        "    lines = file.readlines()\n",
        "    for line in lines:\n",
        "        print(line)\n",
        "```\n",
        "\n",
        "## Writing to Files\n",
        "\n",
        "Example:\n",
        "```python\n",
        "# Using write() method\n",
        "with open('sample.txt', 'w') as file:\n",
        "    file.write('Hello World!')\n",
        "\n",
        "# Using writelines() method\n",
        "data = ['Hello', 'World', '!']\n",
        "with open('sample.txt', 'w') as file:\n",
        "    file.writelines(data)\n",
        "```\n",
        "\n",
        "---\n",
        "\n",
        "<a name=\"lecture2\"></a>\n",
        "# Lecture 2: Working with Different File Formats (text, CSV, JSON)\n",
        "\n",
        "## Introduction\n",
        "- Different file formats\n",
        "- Use-cases for text, CSV, and JSON file formats\n",
        "\n",
        "## Working with CSV Files\n",
        "\n",
        "Example:\n",
        "```python\n",
        "import csv\n",
        "\n",
        "# Reading from CSV files\n",
        "with open('sample.csv', 'r') as file:\n",
        "    reader = csv.reader(file)\n",
        "    for row in reader:\n",
        "        print(row)\n",
        "\n",
        "# Writing to CSV files\n",
        "data = [['Name', 'Age'], ['John', 30], ['Doe', 25]]\n",
        "with open('sample.csv', 'w', newline='') as file:\n",
        "    writer = csv.writer(file)\n",
        "    writer.writerows(data)\n",
        "```\n",
        "\n",
        "## Working with JSON Files\n",
        "\n",
        "Example:\n",
        "```python\n",
        "import json\n",
        "\n",
        "# Reading a JSON file\n",
        "with open('sample.json', 'r') as file:\n",
        "    data = json.load(file)\n",
        "    print(data)\n",
        "\n",
        "# Writing to a JSON file\n",
        "data = {'Name': 'John', 'Age': 30}\n",
        "with open('sample.json', 'w') as file:\n",
        "    json.dump(data, file)\n",
        "```\n",
        "\n",
        "---\n",
        "\n",
        "<a name=\"lecture3\"></a>\n",
        "# Lecture 3: Error Handling and Exception Handling in Python\n",
        "\n",
        "## Introduction\n",
        "- Importance of error and exception handling\n",
        "\n",
        "## Handling Exceptions\n",
        "\n",
        "Example:\n",
        "```python\n",
        "# Using try and except blocks\n",
        "try:\n",
        "    result = 10 / 0\n",
        "except ZeroDivisionError:\n",
        "    print(\"You can't divide by zero!\")\n",
        "```\n",
        "\n",
        "---\n",
        "\n",
        "<a name=\"lecture4\"></a>\n",
        "# Lecture 4: Try-Except Blocks and Handling Specific Exceptions\n",
        "\n",
        "## Introduction\n",
        "- Deep dive into try-except blocks\n",
        "\n",
        "## Using Try-Except Blocks\n",
        "\n",
        "Example:\n",
        "```python\n",
        "# Basic usage of try-except blocks\n",
        "try:\n",
        "    result = 10 / 0\n",
        "except ZeroDivisionError:\n",
        "    print(\"You can't divide by zero!\")\n",
        "\n",
        "# Using else clause\n",
        "try:\n",
        "    result = 10 / 2\n",
        "except ZeroDivisionError:\n",
        "    print(\"You can't divide by zero!\")\n",
        "else:\n",
        "    print(f\"The result is {result}\")\n",
        "\n",
        "# Using finally clause\n",
        "try:\n",
        "    result = 10 / 0\n",
        "except ZeroDivisionError:\n",
        "    print(\"You can't divide by zero!\")\n",
        "finally:\n",
        "    print(\"This block will execute no matter what.\")\n",
        "```"
      ]
    },
    {
      "cell_type": "markdown",
      "source": [
        "**실제 코드 연습**"
      ],
      "metadata": {
        "id": "n5q0mt0JZUXH"
      }
    },
    {
      "cell_type": "code",
      "source": [
        "# Using open() function\n",
        "with open('sample.txt', 'r') as file: #텍스트 파일을 하나 열어라.\n",
        "    content = file.read() #컴퓨터는 파일을 가지고 무엇을 하는지 모르기에, 읽으라고 함. #file이라는 variable설정하고 아래는 파일로 접근하겠다.\n",
        "    print(content)\n",
        "\n",
        "# Using readline() method\n",
        "with open('sample.txt', 'r') as file:\n",
        "    line = file.readline()\n",
        "    print(line)\n",
        "\n",
        "# Using readlines() method\n",
        "with open('sample.txt', 'r') as file:\n",
        "    lines = file.readlines()\n",
        "    for line in lines:\n",
        "        print(line)"
      ],
      "metadata": {
        "colab": {
          "base_uri": "https://localhost:8080/"
        },
        "id": "G-0PeFUFX21z",
        "outputId": "f04d8f02-6ac8-412d-cbea-d3567f2edd70"
      },
      "execution_count": null,
      "outputs": [
        {
          "output_type": "stream",
          "name": "stdout",
          "text": [
            "HelloWorld!\n",
            "HelloWorld!\n",
            "HelloWorld!\n"
          ]
        }
      ]
    },
    {
      "cell_type": "code",
      "source": [
        "#aaa = open('sample.txt', 'r')\n",
        "#content = aaa.read()\n",
        "#print(content)\n",
        "#aaa.close() #파이썬은 이것을 막지 않기에, 꼭 닫는 연습을 해야 한다.\n",
        "#안 그러면 늦어짐."
      ],
      "metadata": {
        "id": "nXR1h0CBbokV"
      },
      "execution_count": null,
      "outputs": []
    },
    {
      "cell_type": "code",
      "source": [
        "# Using write() method\n",
        "with open('sample.txt', 'w') as file:\n",
        "    file.write('Hello World!')\n",
        "\n",
        "# Using writelines() method\n",
        "data = ['Hello', 'World', '!']\n",
        "with open('sample.txt', 'w') as file:\n",
        "    file.writelines(data) #파이썬 리스트"
      ],
      "metadata": {
        "id": "z7Sx74UVZA-Q"
      },
      "execution_count": null,
      "outputs": []
    },
    {
      "cell_type": "markdown",
      "source": [
        "csv 모듈이라고 부름."
      ],
      "metadata": {
        "id": "hwdfioKSdLDH"
      }
    },
    {
      "cell_type": "code",
      "source": [
        "import csv"
      ],
      "metadata": {
        "id": "KdHtFYzNZ6aw"
      },
      "execution_count": null,
      "outputs": []
    },
    {
      "cell_type": "code",
      "source": [
        "# Writing to CSV files\n",
        "data = [['Name', 'Age'], ['John', 30], ['Doe', 25]]\n",
        "with open('sample.csv', 'w', newline='') as file:\n",
        "    writer = csv.writer(file)\n",
        "    writer.writerows(data)"
      ],
      "metadata": {
        "id": "XrZlL4gHZHjm"
      },
      "execution_count": null,
      "outputs": []
    },
    {
      "cell_type": "code",
      "source": [
        "import json\n",
        "\n",
        "# Reading a JSON file\n",
        "with open('sample.json', 'r') as file:\n",
        "    data = json.load(file)\n",
        "    print(data)\n",
        "\n",
        "# Writing to a JSON file\n",
        "data = {'Name': 'John', 'Age': 30}\n",
        "with open('sample.json', 'w') as file:\n",
        "    json.dump(data, file)"
      ],
      "metadata": {
        "id": "JDqXrzfMZLT9"
      },
      "execution_count": null,
      "outputs": []
    },
    {
      "cell_type": "code",
      "source": [
        "# Using try and except blocks\n",
        "try:\n",
        "    result = 10 / 0\n",
        "except ZeroDivisionError: #만약 에러가 난다면 아래의 글을 실행해라. 컴퓨터에게 숫자 0은 존재하지 않음.\n",
        "    print(\"You can't divide by zero!\")"
      ],
      "metadata": {
        "id": "3F8sP9xrZO6L"
      },
      "execution_count": null,
      "outputs": []
    },
    {
      "cell_type": "code",
      "source": [
        "# Basic usage of try-except blocks\n",
        "try:\n",
        "    result = 10 / 0\n",
        "except ZeroDivisionError:\n",
        "    print(\"You can't divide by zero!\")\n",
        "\n",
        "# Using else clause\n",
        "try:\n",
        "    result = 10 / 2\n",
        "except ZeroDivisionError:\n",
        "    print(\"You can't divide by zero!\")\n",
        "else:\n",
        "    print(f\"The result is {result}\")\n",
        "\n",
        "# Using finally clause\n",
        "try:\n",
        "    result = 10 / 0\n",
        "except ZeroDivisionError:\n",
        "    print(\"You can't divide by zero!\")\n",
        "finally:\n",
        "    print(\"This block will execute no matter what.\")"
      ],
      "metadata": {
        "id": "EMHOIOtjZS3C"
      },
      "execution_count": null,
      "outputs": []
    }
  ],
  "metadata": {
    "colab": {
      "provenance": [],
      "include_colab_link": true
    },
    "kernelspec": {
      "display_name": "Python 3",
      "name": "python3"
    },
    "language_info": {
      "name": "python"
    }
  },
  "nbformat": 4,
  "nbformat_minor": 0
}